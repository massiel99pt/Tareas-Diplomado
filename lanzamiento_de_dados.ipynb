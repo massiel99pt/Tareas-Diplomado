{
  "nbformat": 4,
  "nbformat_minor": 0,
  "metadata": {
    "colab": {
      "provenance": [],
      "include_colab_link": true
    },
    "kernelspec": {
      "name": "python3",
      "display_name": "Python 3"
    },
    "language_info": {
      "name": "python"
    }
  },
  "cells": [
    {
      "cell_type": "markdown",
      "metadata": {
        "id": "view-in-github",
        "colab_type": "text"
      },
      "source": [
        "<a href=\"https://colab.research.google.com/github/massiel99pt/Tareas-Diplomado/blob/main/lanzamiento_de_dados.ipynb\" target=\"_parent\"><img src=\"https://colab.research.google.com/assets/colab-badge.svg\" alt=\"Open In Colab\"/></a>"
      ]
    },
    {
      "cell_type": "markdown",
      "source": [
        "# Lanzamiento de dos dados"
      ],
      "metadata": {
        "id": "Zc9c6fpH7tOx"
      }
    },
    {
      "cell_type": "markdown",
      "source": [
        "## Diccionarios:\n",
        "\n",
        "$$\\{\\text{key}:\\text{values}\\}.$$"
      ],
      "metadata": {
        "id": "oGwp3O6m76DD"
      }
    },
    {
      "cell_type": "code",
      "execution_count": null,
      "metadata": {
        "id": "bAXTxjQXsLZp"
      },
      "outputs": [],
      "source": [
        "d = {\"César\": [\"Masha\", \"Mila\", \"Sneg\"],\n",
        "     \"Julio\": [3, 10, 12],\n",
        "     \"Gal\": [7.0, 5.0, 6.0]}"
      ]
    },
    {
      "cell_type": "code",
      "source": [
        "type(d)"
      ],
      "metadata": {
        "colab": {
          "base_uri": "https://localhost:8080/"
        },
        "id": "1U0xkzVA9jC1",
        "outputId": "7c6a415d-d79e-42c1-e9d7-e7675f54f963"
      },
      "execution_count": null,
      "outputs": [
        {
          "output_type": "execute_result",
          "data": {
            "text/plain": [
              "dict"
            ]
          },
          "metadata": {},
          "execution_count": 5
        }
      ]
    },
    {
      "cell_type": "code",
      "source": [
        "d.keys() # Son las llaves de un diccionario"
      ],
      "metadata": {
        "colab": {
          "base_uri": "https://localhost:8080/"
        },
        "id": "CswA0Ax-9vBS",
        "outputId": "eb012757-de67-421e-91cb-95b2acf00d12"
      },
      "execution_count": null,
      "outputs": [
        {
          "output_type": "execute_result",
          "data": {
            "text/plain": [
              "dict_keys(['César', 'Julio', 'Gal'])"
            ]
          },
          "metadata": {},
          "execution_count": 6
        }
      ]
    },
    {
      "cell_type": "code",
      "source": [
        "d.values()"
      ],
      "metadata": {
        "colab": {
          "base_uri": "https://localhost:8080/"
        },
        "id": "vqeYQNbG-vHC",
        "outputId": "c2e690d3-2328-4643-ee2f-dfeb72045a3e"
      },
      "execution_count": null,
      "outputs": [
        {
          "output_type": "execute_result",
          "data": {
            "text/plain": [
              "dict_values([['Masha', 'Mila', 'Sneg'], [3, 10, 12], [7.0, 5.0, 6.0]])"
            ]
          },
          "metadata": {},
          "execution_count": 11
        }
      ]
    },
    {
      "cell_type": "code",
      "source": [
        "d.items()"
      ],
      "metadata": {
        "colab": {
          "base_uri": "https://localhost:8080/"
        },
        "id": "5UhJcXwg-zoI",
        "outputId": "279487b0-8019-4995-f93b-6e379bcb21e2"
      },
      "execution_count": null,
      "outputs": [
        {
          "output_type": "execute_result",
          "data": {
            "text/plain": [
              "dict_items([('César', ['Masha', 'Mila', 'Sneg']), ('Julio', [3, 10, 12]), ('Gal', [7.0, 5.0, 6.0])])"
            ]
          },
          "metadata": {},
          "execution_count": 12
        }
      ]
    },
    {
      "cell_type": "markdown",
      "source": [
        "## Se lanzan dos dados justos:\n",
        "\n",
        "- $\\Omega = \\{1,2,3,4,5,6\\}\\times \\{1,2,3,4,5,6 \\}$.\n",
        "- $\\mathcal{F}=p(\\Omega)$.\n",
        "- Para $\\omega=(i,j)$ donde $i, j=1,\\dots, 6$\n",
        "$$\\mathbb{P}(\\{\\omega\\})=\\frac{1}{36}.$$\n",
        "\n",
        "-----\n",
        "\n",
        "## Vamos a definir a la siguiente variable aleatoria:\n",
        "$S$ es la variable aleatoria que cuenta la suma de las caras de los dados.\n",
        "\n",
        "$$S:\\Omega \\to R_{S}=\\{2, 3, 4, 5, 6, 7, 8, 9, 10, 11, 12 \\}$$"
      ],
      "metadata": {
        "id": "0pEgDmSl_zEw"
      }
    },
    {
      "cell_type": "markdown",
      "source": [
        "Para entender a la ley de la variable aleatoria, basta con entender a los siguientes datos:\n",
        "$$\\{(k, \\mathbb{P}(S=k)) \\}_{k\\in R_{S}}.$$"
      ],
      "metadata": {
        "id": "pR4lIByoCm4X"
      }
    },
    {
      "cell_type": "markdown",
      "source": [
        "Veamos a $S$ como eventos. Sea $S_{n}$ el evento la suma de las caras es $n$."
      ],
      "metadata": {
        "id": "LV_YVSpYDo5x"
      }
    },
    {
      "cell_type": "code",
      "source": [
        "from itertools import product\n",
        "from fractions import Fraction"
      ],
      "metadata": {
        "id": "3D7SUivV_XGG"
      },
      "execution_count": null,
      "outputs": []
    },
    {
      "cell_type": "code",
      "source": [
        "def P(A, Omega):\n",
        "  P = Fraction(len(A), len(Omega) )\n",
        "  return P"
      ],
      "metadata": {
        "id": "NMZ4hgiKEIu0"
      },
      "execution_count": null,
      "outputs": []
    },
    {
      "cell_type": "markdown",
      "source": [
        "$$S_{n}=\\{(i,j)\\in \\Omega : i+j =n \\}$$"
      ],
      "metadata": {
        "id": "c97Faj-dEfvz"
      }
    },
    {
      "cell_type": "code",
      "source": [
        "S_2 = {(i,j) for i in range(1,7) for j in range(1,7) if i+j == 2 }\n",
        "S_2"
      ],
      "metadata": {
        "colab": {
          "base_uri": "https://localhost:8080/"
        },
        "id": "xdKgALyfEdBJ",
        "outputId": "00d08bb8-a63b-4a21-b9ae-171f07baa6fe"
      },
      "execution_count": null,
      "outputs": [
        {
          "output_type": "execute_result",
          "data": {
            "text/plain": [
              "{(1, 1)}"
            ]
          },
          "metadata": {},
          "execution_count": 15
        }
      ]
    },
    {
      "cell_type": "code",
      "source": [
        "L = [i for i in range(1,7)]\n",
        "\n",
        "Omega = set(product(L, repeat =2 ))\n",
        "Omega"
      ],
      "metadata": {
        "colab": {
          "base_uri": "https://localhost:8080/"
        },
        "id": "WiGgELw9FrJy",
        "outputId": "39dfaf6f-38d9-4ec3-bb2a-90ce2a4ee589"
      },
      "execution_count": null,
      "outputs": [
        {
          "output_type": "execute_result",
          "data": {
            "text/plain": [
              "{(1, 1),\n",
              " (1, 2),\n",
              " (1, 3),\n",
              " (1, 4),\n",
              " (1, 5),\n",
              " (1, 6),\n",
              " (2, 1),\n",
              " (2, 2),\n",
              " (2, 3),\n",
              " (2, 4),\n",
              " (2, 5),\n",
              " (2, 6),\n",
              " (3, 1),\n",
              " (3, 2),\n",
              " (3, 3),\n",
              " (3, 4),\n",
              " (3, 5),\n",
              " (3, 6),\n",
              " (4, 1),\n",
              " (4, 2),\n",
              " (4, 3),\n",
              " (4, 4),\n",
              " (4, 5),\n",
              " (4, 6),\n",
              " (5, 1),\n",
              " (5, 2),\n",
              " (5, 3),\n",
              " (5, 4),\n",
              " (5, 5),\n",
              " (5, 6),\n",
              " (6, 1),\n",
              " (6, 2),\n",
              " (6, 3),\n",
              " (6, 4),\n",
              " (6, 5),\n",
              " (6, 6)}"
            ]
          },
          "metadata": {},
          "execution_count": 18
        }
      ]
    },
    {
      "cell_type": "code",
      "source": [
        "S = {(i,j): i+j for i,j in Omega}\n",
        "\n",
        "S"
      ],
      "metadata": {
        "colab": {
          "base_uri": "https://localhost:8080/"
        },
        "id": "i0vdEmDRFZG5",
        "outputId": "9d1e86a4-590e-4d86-9c89-5a2077e746ab"
      },
      "execution_count": null,
      "outputs": [
        {
          "output_type": "execute_result",
          "data": {
            "text/plain": [
              "{(3, 4): 7,\n",
              " (4, 3): 7,\n",
              " (3, 1): 4,\n",
              " (5, 4): 9,\n",
              " (4, 6): 10,\n",
              " (5, 1): 6,\n",
              " (2, 2): 4,\n",
              " (1, 6): 7,\n",
              " (2, 5): 7,\n",
              " (1, 3): 4,\n",
              " (6, 2): 8,\n",
              " (6, 5): 11,\n",
              " (4, 2): 6,\n",
              " (4, 5): 9,\n",
              " (3, 3): 6,\n",
              " (5, 6): 11,\n",
              " (3, 6): 9,\n",
              " (5, 3): 8,\n",
              " (2, 4): 6,\n",
              " (1, 2): 3,\n",
              " (2, 1): 3,\n",
              " (1, 5): 6,\n",
              " (6, 1): 7,\n",
              " (6, 4): 10,\n",
              " (3, 2): 5,\n",
              " (4, 1): 5,\n",
              " (3, 5): 8,\n",
              " (5, 2): 7,\n",
              " (4, 4): 8,\n",
              " (5, 5): 10,\n",
              " (1, 1): 2,\n",
              " (1, 4): 5,\n",
              " (2, 3): 5,\n",
              " (2, 6): 8,\n",
              " (6, 6): 12,\n",
              " (6, 3): 9}"
            ]
          },
          "metadata": {},
          "execution_count": 20
        }
      ]
    },
    {
      "cell_type": "code",
      "source": [
        "from collections import defaultdict\n",
        "\n",
        "dS = defaultdict(set)\n",
        "dS"
      ],
      "metadata": {
        "colab": {
          "base_uri": "https://localhost:8080/"
        },
        "id": "tCdZjkJ4GbQK",
        "outputId": "0e05ce46-d7c6-4e85-f0e3-e63a98e7e749"
      },
      "execution_count": null,
      "outputs": [
        {
          "output_type": "execute_result",
          "data": {
            "text/plain": [
              "defaultdict(set, {})"
            ]
          },
          "metadata": {},
          "execution_count": 22
        }
      ]
    },
    {
      "cell_type": "code",
      "source": [
        "for l, v in S.items():\n",
        "  dS[v].add(l)"
      ],
      "metadata": {
        "id": "0wQQasi-HYLf"
      },
      "execution_count": null,
      "outputs": []
    },
    {
      "cell_type": "code",
      "source": [
        "dS"
      ],
      "metadata": {
        "colab": {
          "base_uri": "https://localhost:8080/"
        },
        "id": "LzTW-QyBHt-d",
        "outputId": "bf753e52-e2b6-4a64-a1e4-d405ce0cb90a"
      },
      "execution_count": null,
      "outputs": [
        {
          "output_type": "execute_result",
          "data": {
            "text/plain": [
              "defaultdict(set,\n",
              "            {7: {(1, 6), (2, 5), (3, 4), (4, 3), (5, 2), (6, 1)},\n",
              "             4: {(1, 3), (2, 2), (3, 1)},\n",
              "             9: {(3, 6), (4, 5), (5, 4), (6, 3)},\n",
              "             10: {(4, 6), (5, 5), (6, 4)},\n",
              "             6: {(1, 5), (2, 4), (3, 3), (4, 2), (5, 1)},\n",
              "             8: {(2, 6), (3, 5), (4, 4), (5, 3), (6, 2)},\n",
              "             11: {(5, 6), (6, 5)},\n",
              "             3: {(1, 2), (2, 1)},\n",
              "             5: {(1, 4), (2, 3), (3, 2), (4, 1)},\n",
              "             2: {(1, 1)},\n",
              "             12: {(6, 6)}})"
            ]
          },
          "metadata": {},
          "execution_count": 28
        }
      ]
    },
    {
      "cell_type": "code",
      "source": [
        "leyS = {k : P(A,Omega) for k , A in dS.items() }\n",
        "leyS"
      ],
      "metadata": {
        "colab": {
          "base_uri": "https://localhost:8080/"
        },
        "id": "brD5YygqI8wf",
        "outputId": "6ef87d7c-0061-4806-ef16-b54817f3db8c"
      },
      "execution_count": null,
      "outputs": [
        {
          "output_type": "execute_result",
          "data": {
            "text/plain": [
              "{7: Fraction(1, 6),\n",
              " 4: Fraction(1, 12),\n",
              " 9: Fraction(1, 9),\n",
              " 10: Fraction(1, 12),\n",
              " 6: Fraction(5, 36),\n",
              " 8: Fraction(5, 36),\n",
              " 11: Fraction(1, 18),\n",
              " 3: Fraction(1, 18),\n",
              " 5: Fraction(1, 9),\n",
              " 2: Fraction(1, 36),\n",
              " 12: Fraction(1, 36)}"
            ]
          },
          "metadata": {},
          "execution_count": 29
        }
      ]
    },
    {
      "cell_type": "markdown",
      "source": [
        "## Introducción a pandas."
      ],
      "metadata": {
        "id": "zRJO-SbyJ2x0"
      }
    },
    {
      "cell_type": "code",
      "source": [
        "import pandas as pd"
      ],
      "metadata": {
        "id": "wOjQu9ZlJn09"
      },
      "execution_count": null,
      "outputs": []
    },
    {
      "cell_type": "code",
      "source": [
        "leyS = pd.Series(leyS)\n",
        "leyS = leyS.sort_index()"
      ],
      "metadata": {
        "id": "VbH7OcRAKLxD"
      },
      "execution_count": null,
      "outputs": []
    },
    {
      "cell_type": "markdown",
      "source": [
        "### Ejercicios:\n",
        "1.- Documenta tu colab.\n",
        "\n",
        "2.- Calcula la ley de las siguientes variables aleatorias:\n",
        "\n",
        "1.          - La diferencia de las caras sea mayor que $1$.\n",
        "\n",
        "    - La suma de las caras sea par.\n",
        "\n",
        "3.- Verifica, en cada caso, que $$\\sum_{k\\in R_{X}}\\mathbb{P}(X=x)=1.$$\n",
        "\n",
        "4.- Sube tu notebook a tu GitHub.\n",
        "\n",
        "\n"
      ],
      "metadata": {
        "id": "fqIGXqIiPZZM"
      }
    },
    {
      "cell_type": "markdown",
      "source": [
        "### Ejercicio 1"
      ],
      "metadata": {
        "id": "azinJGmZkelY"
      }
    },
    {
      "cell_type": "code",
      "source": [
        "# Cargamos la libreria para dar formato al diccionario\n",
        "from collections import defaultdict\n",
        "from itertools import product\n",
        "#cargamos la libreria para dar formato a la probabilidad\n",
        "from fractions import Fraction\n",
        "import pandas as pd"
      ],
      "metadata": {
        "id": "Wbth7YyEkzus"
      },
      "execution_count": null,
      "outputs": []
    },
    {
      "cell_type": "code",
      "source": [
        "#funcion de probabilidad\n",
        "def P(A, Omega):\n",
        "  P = Fraction(len(A), len(Omega) )\n",
        "  return P"
      ],
      "metadata": {
        "id": "RYdM-iFsklB5"
      },
      "execution_count": null,
      "outputs": []
    },
    {
      "cell_type": "code",
      "source": [
        "# Primero generamos todos los eventos con la suma de los dados\n",
        "Omega1 = {(i, j) for i in range (1, 7) for j in range (1, 7) if abs(i - j) >= 2}\n",
        "Omega1"
      ],
      "metadata": {
        "colab": {
          "base_uri": "https://localhost:8080/"
        },
        "id": "tZiq3L7Wkno9",
        "outputId": "926e2f00-56ef-4b67-d38b-6a08aa157eb0"
      },
      "execution_count": null,
      "outputs": [
        {
          "output_type": "execute_result",
          "data": {
            "text/plain": [
              "{(1, 3),\n",
              " (1, 4),\n",
              " (1, 5),\n",
              " (1, 6),\n",
              " (2, 4),\n",
              " (2, 5),\n",
              " (2, 6),\n",
              " (3, 1),\n",
              " (3, 5),\n",
              " (3, 6),\n",
              " (4, 1),\n",
              " (4, 2),\n",
              " (4, 6),\n",
              " (5, 1),\n",
              " (5, 2),\n",
              " (5, 3),\n",
              " (6, 1),\n",
              " (6, 2),\n",
              " (6, 3),\n",
              " (6, 4)}"
            ]
          },
          "metadata": {},
          "execution_count": 3
        }
      ]
    },
    {
      "cell_type": "code",
      "source": [
        "# Generar todos los eventos con la suma de los dados\n",
        "S1 = {(i, j): i + j for i, j in Omega1}\n",
        "S1"
      ],
      "metadata": {
        "colab": {
          "base_uri": "https://localhost:8080/"
        },
        "id": "3hQWGS9Lku3a",
        "outputId": "6e29859a-5c01-4a2e-9a5f-2e7d689385f0"
      },
      "execution_count": null,
      "outputs": [
        {
          "output_type": "execute_result",
          "data": {
            "text/plain": [
              "{(3, 1): 4,\n",
              " (4, 6): 10,\n",
              " (5, 1): 6,\n",
              " (1, 6): 7,\n",
              " (2, 5): 7,\n",
              " (1, 3): 4,\n",
              " (6, 2): 8,\n",
              " (4, 2): 6,\n",
              " (3, 6): 9,\n",
              " (5, 3): 8,\n",
              " (2, 4): 6,\n",
              " (1, 5): 6,\n",
              " (6, 1): 7,\n",
              " (6, 4): 10,\n",
              " (4, 1): 5,\n",
              " (3, 5): 8,\n",
              " (5, 2): 7,\n",
              " (1, 4): 5,\n",
              " (2, 6): 8,\n",
              " (6, 3): 9}"
            ]
          },
          "metadata": {},
          "execution_count": 4
        }
      ]
    },
    {
      "cell_type": "code",
      "source": [
        "dS1 = defaultdict(set)\n",
        "dS1\n",
        "defaultdict(set, {})"
      ],
      "metadata": {
        "colab": {
          "base_uri": "https://localhost:8080/"
        },
        "id": "o8FkQpDmkxmt",
        "outputId": "4a25cf22-b2a5-4fd3-e6b0-1eb42c89cedd"
      },
      "execution_count": null,
      "outputs": [
        {
          "output_type": "execute_result",
          "data": {
            "text/plain": [
              "defaultdict(set, {})"
            ]
          },
          "metadata": {},
          "execution_count": 5
        }
      ]
    },
    {
      "cell_type": "code",
      "source": [
        "\n",
        "# Ciclo iterativo para agrupar los eventos por la suma de los dados\n",
        "for l1, v1 in S1.items():\n",
        "  dS1[v1].add(l1)\n",
        "dS1\n"
      ],
      "metadata": {
        "id": "O137dfCFQ4FX",
        "colab": {
          "base_uri": "https://localhost:8080/"
        },
        "outputId": "f133e216-d945-498c-f494-2d089bc066be"
      },
      "execution_count": null,
      "outputs": [
        {
          "output_type": "execute_result",
          "data": {
            "text/plain": [
              "defaultdict(set,\n",
              "            {4: {(1, 3), (3, 1)},\n",
              "             10: {(4, 6), (6, 4)},\n",
              "             6: {(1, 5), (2, 4), (4, 2), (5, 1)},\n",
              "             7: {(1, 6), (2, 5), (5, 2), (6, 1)},\n",
              "             8: {(2, 6), (3, 5), (5, 3), (6, 2)},\n",
              "             9: {(3, 6), (6, 3)},\n",
              "             5: {(1, 4), (4, 1)}})"
            ]
          },
          "metadata": {},
          "execution_count": 6
        }
      ]
    },
    {
      "cell_type": "code",
      "source": [
        "# Agrupación de eventos con la suma de los dados y la Probabilidad asociada\n",
        "leyS1 = {k : P(A, Omega1) for k , A in dS1.items() }\n",
        "leyS1"
      ],
      "metadata": {
        "colab": {
          "base_uri": "https://localhost:8080/"
        },
        "id": "bnPWgs7-lM6H",
        "outputId": "9031bfa7-5bd6-4ebc-ff3f-19264538987c"
      },
      "execution_count": null,
      "outputs": [
        {
          "output_type": "execute_result",
          "data": {
            "text/plain": [
              "{4: Fraction(1, 10),\n",
              " 10: Fraction(1, 10),\n",
              " 6: Fraction(1, 5),\n",
              " 7: Fraction(1, 5),\n",
              " 8: Fraction(1, 5),\n",
              " 9: Fraction(1, 10),\n",
              " 5: Fraction(1, 10)}"
            ]
          },
          "metadata": {},
          "execution_count": 7
        }
      ]
    },
    {
      "cell_type": "code",
      "source": [
        "# generamos un Dataframe con ordenamiento de la suma de los dados y sus Probabilidades\n",
        "leyS1 = pd.Series(leyS1)\n",
        "leyS1 = leyS1.sort_index()\n",
        "leyS1\n"
      ],
      "metadata": {
        "colab": {
          "base_uri": "https://localhost:8080/"
        },
        "id": "fQ9fUuy-lRYF",
        "outputId": "5d9f15d4-f1b0-48b0-dfae-ae68eb2b6d61"
      },
      "execution_count": null,
      "outputs": [
        {
          "output_type": "execute_result",
          "data": {
            "text/plain": [
              "4     1/10\n",
              "5     1/10\n",
              "6      1/5\n",
              "7      1/5\n",
              "8      1/5\n",
              "9     1/10\n",
              "10    1/10\n",
              "dtype: object"
            ]
          },
          "metadata": {},
          "execution_count": 9
        }
      ]
    },
    {
      "cell_type": "markdown",
      "source": [
        "### Ejercicio 2"
      ],
      "metadata": {
        "id": "lQqHtR_Zlfyf"
      }
    },
    {
      "cell_type": "code",
      "source": [
        "#Todos los eventos con la suma de los dados\n",
        "Omega2 = {(i, j) for i in range (1, 7) for j in range (1, 7) if ((i + j) % 2 == 0)}\n",
        "Omega2"
      ],
      "metadata": {
        "colab": {
          "base_uri": "https://localhost:8080/"
        },
        "id": "7tc7QpzSlh6X",
        "outputId": "8e22a0b5-a93b-4396-df09-8866d3c3d746"
      },
      "execution_count": null,
      "outputs": [
        {
          "output_type": "execute_result",
          "data": {
            "text/plain": [
              "{(1, 1),\n",
              " (1, 3),\n",
              " (1, 5),\n",
              " (2, 2),\n",
              " (2, 4),\n",
              " (2, 6),\n",
              " (3, 1),\n",
              " (3, 3),\n",
              " (3, 5),\n",
              " (4, 2),\n",
              " (4, 4),\n",
              " (4, 6),\n",
              " (5, 1),\n",
              " (5, 3),\n",
              " (5, 5),\n",
              " (6, 2),\n",
              " (6, 4),\n",
              " (6, 6)}"
            ]
          },
          "metadata": {},
          "execution_count": 10
        }
      ]
    },
    {
      "cell_type": "code",
      "source": [
        "# Todos los eventos con la suma de los dados\n",
        "S2 = {(i, j): i + j for i, j in Omega2}\n",
        "S2\n"
      ],
      "metadata": {
        "colab": {
          "base_uri": "https://localhost:8080/"
        },
        "id": "O5-MYYxHlpSl",
        "outputId": "8603b395-b525-426e-e477-28e6a09c6d9a"
      },
      "execution_count": null,
      "outputs": [
        {
          "output_type": "execute_result",
          "data": {
            "text/plain": [
              "{(4, 4): 8,\n",
              " (2, 4): 6,\n",
              " (5, 5): 10,\n",
              " (6, 2): 8,\n",
              " (1, 5): 6,\n",
              " (3, 1): 4,\n",
              " (1, 1): 2,\n",
              " (4, 6): 10,\n",
              " (6, 6): 12,\n",
              " (5, 1): 6,\n",
              " (4, 2): 6,\n",
              " (6, 4): 10,\n",
              " (3, 3): 6,\n",
              " (2, 6): 8,\n",
              " (2, 2): 4,\n",
              " (5, 3): 8,\n",
              " (1, 3): 4,\n",
              " (3, 5): 8}"
            ]
          },
          "metadata": {},
          "execution_count": 12
        }
      ]
    },
    {
      "cell_type": "code",
      "source": [
        "dS2 = defaultdict(set)\n",
        "dS2"
      ],
      "metadata": {
        "colab": {
          "base_uri": "https://localhost:8080/"
        },
        "id": "wg1UvLp3lwt-",
        "outputId": "fd06387a-1c9b-4ddd-bb0c-4cf561ac45f9"
      },
      "execution_count": null,
      "outputs": [
        {
          "output_type": "execute_result",
          "data": {
            "text/plain": [
              "defaultdict(set, {})"
            ]
          },
          "metadata": {},
          "execution_count": 11
        }
      ]
    },
    {
      "cell_type": "code",
      "source": [
        "# Ciclo iterativo para agrupar los eventos por la suma de los dados\n",
        "for l2, v2 in S2.items():\n",
        "  dS2[v2].add(l2)\n",
        "\n",
        "dS2"
      ],
      "metadata": {
        "colab": {
          "base_uri": "https://localhost:8080/"
        },
        "id": "kM5johL3l0Cm",
        "outputId": "43bd4290-5a91-4bb4-8b5d-cfacd9e687c3"
      },
      "execution_count": null,
      "outputs": [
        {
          "output_type": "execute_result",
          "data": {
            "text/plain": [
              "defaultdict(set,\n",
              "            {8: {(2, 6), (3, 5), (4, 4), (5, 3), (6, 2)},\n",
              "             6: {(1, 5), (2, 4), (3, 3), (4, 2), (5, 1)},\n",
              "             10: {(4, 6), (5, 5), (6, 4)},\n",
              "             4: {(1, 3), (2, 2), (3, 1)},\n",
              "             2: {(1, 1)},\n",
              "             12: {(6, 6)}})"
            ]
          },
          "metadata": {},
          "execution_count": 13
        }
      ]
    },
    {
      "cell_type": "code",
      "source": [
        "\n",
        "# Agrupación de eventos con la suma de los dados y la Probabilidad asociada\n",
        "leyS2 = {k : P(A, Omega2) for k , A in dS2.items() }\n",
        "leyS2"
      ],
      "metadata": {
        "colab": {
          "base_uri": "https://localhost:8080/"
        },
        "id": "mIVosPzYl2lr",
        "outputId": "1c105243-5dc5-4137-c70f-a5ab64a0a13f"
      },
      "execution_count": null,
      "outputs": [
        {
          "output_type": "execute_result",
          "data": {
            "text/plain": [
              "{8: Fraction(5, 18),\n",
              " 6: Fraction(5, 18),\n",
              " 10: Fraction(1, 6),\n",
              " 4: Fraction(1, 6),\n",
              " 2: Fraction(1, 18),\n",
              " 12: Fraction(1, 18)}"
            ]
          },
          "metadata": {},
          "execution_count": 14
        }
      ]
    },
    {
      "cell_type": "code",
      "source": [
        "# Importar librería pandas y generar Dataframe con ordenamiento de la suma de los dados y sus Probabilidades\n",
        "leyS2 = pd.Series(leyS2)\n",
        "leyS2 = leyS2.sort_index()\n",
        "leyS2"
      ],
      "metadata": {
        "colab": {
          "base_uri": "https://localhost:8080/"
        },
        "id": "ZmveJLrdl5r1",
        "outputId": "13063ce9-e97a-46a4-ae91-098dd199fbd0"
      },
      "execution_count": null,
      "outputs": [
        {
          "output_type": "execute_result",
          "data": {
            "text/plain": [
              "2     1/18\n",
              "4      1/6\n",
              "6     5/18\n",
              "8     5/18\n",
              "10     1/6\n",
              "12    1/18\n",
              "dtype: object"
            ]
          },
          "metadata": {},
          "execution_count": 15
        }
      ]
    }
  ]
}